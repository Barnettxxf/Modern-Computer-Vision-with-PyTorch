{
  "nbformat": 4,
  "nbformat_minor": 0,
  "metadata": {
    "colab": {
      "name": "Training_RCNN.ipynb",
      "provenance": [],
      "include_colab_link": true
    },
    "kernelspec": {
      "name": "python3",
      "display_name": "Python 3"
    }
  },
  "cells": [
    {
      "cell_type": "markdown",
      "metadata": {
        "id": "view-in-github",
        "colab_type": "text"
      },
      "source": [
        "<a href=\"https://colab.research.google.com/github/Barnettxxf/Modern-Computer-Vision-with-PyTorch/blob/master/Chapter07/Training_RCNN.ipynb\" target=\"_parent\"><img src=\"https://colab.research.google.com/assets/colab-badge.svg\" alt=\"Open In Colab\"/></a>"
      ]
    },
    {
      "cell_type": "code",
      "metadata": {
        "id": "pIOo-A9m3_Th",
        "outputId": "aefeda66-54e1-4b30-ae87-0620ab8df8b0",
        "colab": {
          "base_uri": "https://localhost:8080/",
          "height": 471
        }
      },
      "source": [
        "!pip install -q --upgrade selectivesearch torch_snippets\n",
        "from torch_snippets import *\n",
        "import selectivesearch\n",
        "\n",
        "from google.colab import files\n",
        "files.upload() # upload kaggle.json file which you can get\n",
        "# by clicking on Create New API token in your personal account\n",
        "!mkdir -p ~/.kaggle\n",
        "!mv kaggle.json ~/.kaggle/\n",
        "!ls ~/.kaggle\n",
        "!chmod 600 /root/.kaggle/kaggle.json\n",
        "!kaggle datasets download sixhky/open-images-bus-trucks --force\n",
        "!unzip -qq open-images-bus-trucks.zip\n",
        "\n"
      ],
      "execution_count": 1,
      "outputs": [
        {
          "output_type": "stream",
          "name": "stdout",
          "text": [
            "  Preparing metadata (setup.py) ... \u001b[?25l\u001b[?25hdone\n",
            "\u001b[2K     \u001b[90m━━━━━━━━━━━━━━━━━━━━━━━━━━━━━━━━━━━━━━━━\u001b[0m \u001b[32m78.6/78.6 kB\u001b[0m \u001b[31m5.3 MB/s\u001b[0m eta \u001b[36m0:00:00\u001b[0m\n",
            "\u001b[?25h  Preparing metadata (setup.py) ... \u001b[?25l\u001b[?25hdone\n",
            "\u001b[2K   \u001b[90m━━━━━━━━━━━━━━━━━━━━━━━━━━━━━━━━━━━━━━━━\u001b[0m \u001b[32m109.1/109.1 kB\u001b[0m \u001b[31m8.1 MB/s\u001b[0m eta \u001b[36m0:00:00\u001b[0m\n",
            "\u001b[2K   \u001b[90m━━━━━━━━━━━━━━━━━━━━━━━━━━━━━━━━━━━━━━━━\u001b[0m \u001b[32m948.0/948.0 kB\u001b[0m \u001b[31m24.5 MB/s\u001b[0m eta \u001b[36m0:00:00\u001b[0m\n",
            "\u001b[2K   \u001b[90m━━━━━━━━━━━━━━━━━━━━━━━━━━━━━━━━━━━━━━━━\u001b[0m \u001b[32m91.1/91.1 kB\u001b[0m \u001b[31m6.6 MB/s\u001b[0m eta \u001b[36m0:00:00\u001b[0m\n",
            "\u001b[2K   \u001b[90m━━━━━━━━━━━━━━━━━━━━━━━━━━━━━━━━━━━━━━━━\u001b[0m \u001b[32m61.6/61.6 kB\u001b[0m \u001b[31m3.3 MB/s\u001b[0m eta \u001b[36m0:00:00\u001b[0m\n",
            "\u001b[2K   \u001b[90m━━━━━━━━━━━━━━━━━━━━━━━━━━━━━━━━━━━━━━━━\u001b[0m \u001b[32m221.0/221.0 kB\u001b[0m \u001b[31m15.1 MB/s\u001b[0m eta \u001b[36m0:00:00\u001b[0m\n",
            "\u001b[2K   \u001b[90m━━━━━━━━━━━━━━━━━━━━━━━━━━━━━━━━━━━━━━━━\u001b[0m \u001b[32m159.9/159.9 kB\u001b[0m \u001b[31m12.2 MB/s\u001b[0m eta \u001b[36m0:00:00\u001b[0m\n",
            "\u001b[2K   \u001b[90m━━━━━━━━━━━━━━━━━━━━━━━━━━━━━━━━━━━━━━━━\u001b[0m \u001b[32m99.2/99.2 kB\u001b[0m \u001b[31m7.0 MB/s\u001b[0m eta \u001b[36m0:00:00\u001b[0m\n",
            "\u001b[2K   \u001b[90m━━━━━━━━━━━━━━━━━━━━━━━━━━━━━━━━━━━━━━━━\u001b[0m \u001b[32m6.0/6.0 MB\u001b[0m \u001b[31m66.2 MB/s\u001b[0m eta \u001b[36m0:00:00\u001b[0m\n",
            "\u001b[2K   \u001b[90m━━━━━━━━━━━━━━━━━━━━━━━━━━━━━━━━━━━━━━━━\u001b[0m \u001b[32m469.0/469.0 kB\u001b[0m \u001b[31m25.2 MB/s\u001b[0m eta \u001b[36m0:00:00\u001b[0m\n",
            "\u001b[2K   \u001b[90m━━━━━━━━━━━━━━━━━━━━━━━━━━━━━━━━━━━━━━━━\u001b[0m \u001b[32m3.3/3.3 MB\u001b[0m \u001b[31m63.8 MB/s\u001b[0m eta \u001b[36m0:00:00\u001b[0m\n",
            "\u001b[?25h  Building wheel for selectivesearch (setup.py) ... \u001b[?25l\u001b[?25hdone\n",
            "  Building wheel for typing (setup.py) ... \u001b[?25l\u001b[?25hdone\n"
          ]
        },
        {
          "output_type": "display_data",
          "data": {
            "text/plain": [
              "<IPython.core.display.HTML object>"
            ],
            "text/html": [
              "\n",
              "     <input type=\"file\" id=\"files-05000d7d-d9af-464e-9c85-9fe163df88e9\" name=\"files[]\" multiple disabled\n",
              "        style=\"border:none\" />\n",
              "     <output id=\"result-05000d7d-d9af-464e-9c85-9fe163df88e9\">\n",
              "      Upload widget is only available when the cell has been executed in the\n",
              "      current browser session. Please rerun this cell to enable.\n",
              "      </output>\n",
              "      <script>// Copyright 2017 Google LLC\n",
              "//\n",
              "// Licensed under the Apache License, Version 2.0 (the \"License\");\n",
              "// you may not use this file except in compliance with the License.\n",
              "// You may obtain a copy of the License at\n",
              "//\n",
              "//      http://www.apache.org/licenses/LICENSE-2.0\n",
              "//\n",
              "// Unless required by applicable law or agreed to in writing, software\n",
              "// distributed under the License is distributed on an \"AS IS\" BASIS,\n",
              "// WITHOUT WARRANTIES OR CONDITIONS OF ANY KIND, either express or implied.\n",
              "// See the License for the specific language governing permissions and\n",
              "// limitations under the License.\n",
              "\n",
              "/**\n",
              " * @fileoverview Helpers for google.colab Python module.\n",
              " */\n",
              "(function(scope) {\n",
              "function span(text, styleAttributes = {}) {\n",
              "  const element = document.createElement('span');\n",
              "  element.textContent = text;\n",
              "  for (const key of Object.keys(styleAttributes)) {\n",
              "    element.style[key] = styleAttributes[key];\n",
              "  }\n",
              "  return element;\n",
              "}\n",
              "\n",
              "// Max number of bytes which will be uploaded at a time.\n",
              "const MAX_PAYLOAD_SIZE = 100 * 1024;\n",
              "\n",
              "function _uploadFiles(inputId, outputId) {\n",
              "  const steps = uploadFilesStep(inputId, outputId);\n",
              "  const outputElement = document.getElementById(outputId);\n",
              "  // Cache steps on the outputElement to make it available for the next call\n",
              "  // to uploadFilesContinue from Python.\n",
              "  outputElement.steps = steps;\n",
              "\n",
              "  return _uploadFilesContinue(outputId);\n",
              "}\n",
              "\n",
              "// This is roughly an async generator (not supported in the browser yet),\n",
              "// where there are multiple asynchronous steps and the Python side is going\n",
              "// to poll for completion of each step.\n",
              "// This uses a Promise to block the python side on completion of each step,\n",
              "// then passes the result of the previous step as the input to the next step.\n",
              "function _uploadFilesContinue(outputId) {\n",
              "  const outputElement = document.getElementById(outputId);\n",
              "  const steps = outputElement.steps;\n",
              "\n",
              "  const next = steps.next(outputElement.lastPromiseValue);\n",
              "  return Promise.resolve(next.value.promise).then((value) => {\n",
              "    // Cache the last promise value to make it available to the next\n",
              "    // step of the generator.\n",
              "    outputElement.lastPromiseValue = value;\n",
              "    return next.value.response;\n",
              "  });\n",
              "}\n",
              "\n",
              "/**\n",
              " * Generator function which is called between each async step of the upload\n",
              " * process.\n",
              " * @param {string} inputId Element ID of the input file picker element.\n",
              " * @param {string} outputId Element ID of the output display.\n",
              " * @return {!Iterable<!Object>} Iterable of next steps.\n",
              " */\n",
              "function* uploadFilesStep(inputId, outputId) {\n",
              "  const inputElement = document.getElementById(inputId);\n",
              "  inputElement.disabled = false;\n",
              "\n",
              "  const outputElement = document.getElementById(outputId);\n",
              "  outputElement.innerHTML = '';\n",
              "\n",
              "  const pickedPromise = new Promise((resolve) => {\n",
              "    inputElement.addEventListener('change', (e) => {\n",
              "      resolve(e.target.files);\n",
              "    });\n",
              "  });\n",
              "\n",
              "  const cancel = document.createElement('button');\n",
              "  inputElement.parentElement.appendChild(cancel);\n",
              "  cancel.textContent = 'Cancel upload';\n",
              "  const cancelPromise = new Promise((resolve) => {\n",
              "    cancel.onclick = () => {\n",
              "      resolve(null);\n",
              "    };\n",
              "  });\n",
              "\n",
              "  // Wait for the user to pick the files.\n",
              "  const files = yield {\n",
              "    promise: Promise.race([pickedPromise, cancelPromise]),\n",
              "    response: {\n",
              "      action: 'starting',\n",
              "    }\n",
              "  };\n",
              "\n",
              "  cancel.remove();\n",
              "\n",
              "  // Disable the input element since further picks are not allowed.\n",
              "  inputElement.disabled = true;\n",
              "\n",
              "  if (!files) {\n",
              "    return {\n",
              "      response: {\n",
              "        action: 'complete',\n",
              "      }\n",
              "    };\n",
              "  }\n",
              "\n",
              "  for (const file of files) {\n",
              "    const li = document.createElement('li');\n",
              "    li.append(span(file.name, {fontWeight: 'bold'}));\n",
              "    li.append(span(\n",
              "        `(${file.type || 'n/a'}) - ${file.size} bytes, ` +\n",
              "        `last modified: ${\n",
              "            file.lastModifiedDate ? file.lastModifiedDate.toLocaleDateString() :\n",
              "                                    'n/a'} - `));\n",
              "    const percent = span('0% done');\n",
              "    li.appendChild(percent);\n",
              "\n",
              "    outputElement.appendChild(li);\n",
              "\n",
              "    const fileDataPromise = new Promise((resolve) => {\n",
              "      const reader = new FileReader();\n",
              "      reader.onload = (e) => {\n",
              "        resolve(e.target.result);\n",
              "      };\n",
              "      reader.readAsArrayBuffer(file);\n",
              "    });\n",
              "    // Wait for the data to be ready.\n",
              "    let fileData = yield {\n",
              "      promise: fileDataPromise,\n",
              "      response: {\n",
              "        action: 'continue',\n",
              "      }\n",
              "    };\n",
              "\n",
              "    // Use a chunked sending to avoid message size limits. See b/62115660.\n",
              "    let position = 0;\n",
              "    do {\n",
              "      const length = Math.min(fileData.byteLength - position, MAX_PAYLOAD_SIZE);\n",
              "      const chunk = new Uint8Array(fileData, position, length);\n",
              "      position += length;\n",
              "\n",
              "      const base64 = btoa(String.fromCharCode.apply(null, chunk));\n",
              "      yield {\n",
              "        response: {\n",
              "          action: 'append',\n",
              "          file: file.name,\n",
              "          data: base64,\n",
              "        },\n",
              "      };\n",
              "\n",
              "      let percentDone = fileData.byteLength === 0 ?\n",
              "          100 :\n",
              "          Math.round((position / fileData.byteLength) * 100);\n",
              "      percent.textContent = `${percentDone}% done`;\n",
              "\n",
              "    } while (position < fileData.byteLength);\n",
              "  }\n",
              "\n",
              "  // All done.\n",
              "  yield {\n",
              "    response: {\n",
              "      action: 'complete',\n",
              "    }\n",
              "  };\n",
              "}\n",
              "\n",
              "scope.google = scope.google || {};\n",
              "scope.google.colab = scope.google.colab || {};\n",
              "scope.google.colab._files = {\n",
              "  _uploadFiles,\n",
              "  _uploadFilesContinue,\n",
              "};\n",
              "})(self);\n",
              "</script> "
            ]
          },
          "metadata": {}
        },
        {
          "output_type": "stream",
          "name": "stdout",
          "text": [
            "Saving kaggle.json to kaggle.json\n",
            "kaggle.json\n",
            "Dataset URL: https://www.kaggle.com/datasets/sixhky/open-images-bus-trucks\n",
            "License(s): unknown\n",
            "Downloading open-images-bus-trucks.zip to /content\n",
            " 92% 339M/367M [00:00<00:00, 351MB/s]\n",
            "100% 367M/367M [00:00<00:00, 426MB/s]\n"
          ]
        }
      ]
    },
    {
      "cell_type": "code",
      "source": [
        "import torch\n",
        "import torch.nn as nn\n",
        "from torch.utils.data import Dataset, DataLoader\n",
        "from torchvision import transforms, models, datasets\n",
        "from torch_snippets.torch_loader import Report\n",
        "from torchvision.ops import nms\n",
        "device = 'cuda' if torch.cuda.is_available() else 'cpu'"
      ],
      "metadata": {
        "id": "QFl2B__R93zn"
      },
      "execution_count": null,
      "outputs": []
    },
    {
      "cell_type": "code",
      "metadata": {
        "id": "14-PnjIp4Le_"
      },
      "source": [
        "IMAGE_ROOT = 'images/images'\n",
        "DF_RAW = pd.read_csv('df.csv')\n",
        "print(DF_RAW.head())"
      ],
      "execution_count": null,
      "outputs": []
    },
    {
      "cell_type": "code",
      "metadata": {
        "id": "P-kZg83t5rwY"
      },
      "source": [
        "class OpenImages(Dataset):\n",
        "    def __init__(self, df, image_folder=IMAGE_ROOT):\n",
        "        self.root = image_folder\n",
        "        self.df = df\n",
        "        self.unique_images = df['ImageID'].unique()\n",
        "    def __len__(self): return len(self.unique_images)\n",
        "    def __getitem__(self, ix):\n",
        "        image_id = self.unique_images[ix]\n",
        "        image_path = f'{self.root}/{image_id}.jpg'\n",
        "        image = cv2.imread(image_path, 1)[...,::-1] # conver BGR to RGB\n",
        "        h, w, _ = image.shape\n",
        "        df = self.df.copy()\n",
        "        df = df[df['ImageID'] == image_id]\n",
        "        boxes = df['XMin,YMin,XMax,YMax'.split(',')].values\n",
        "        boxes = (boxes * np.array([w,h,w,h])).astype(np.uint16).tolist()\n",
        "        classes = df['LabelName'].values.tolist()\n",
        "        return image, boxes, classes, image_path\n",
        "ds = OpenImages(df=DF_RAW)\n",
        "im, bbs, clss, _ = ds[9]\n",
        "show(im, bbs=bbs, texts=clss, sz=10)"
      ],
      "execution_count": null,
      "outputs": []
    },
    {
      "cell_type": "code",
      "metadata": {
        "id": "bt_LSq5_55TZ"
      },
      "source": [
        "def extract_candidates(img):\n",
        "    img_lbl, regions = selectivesearch.selective_search(img, scale=200, min_size=100)\n",
        "    img_area = np.prod(img.shape[:2])\n",
        "    candidates = []\n",
        "    for r in regions:\n",
        "        if r['rect'] in candidates: continue\n",
        "        if r['size'] < (0.05*img_area): continue\n",
        "        if r['size'] > (1*img_area): continue\n",
        "        x, y, w, h = r['rect']\n",
        "        candidates.append(list(r['rect']))\n",
        "    return candidates\n",
        "def extract_iou(boxA, boxB, epsilon=1e-5):\n",
        "    x1 = max(boxA[0], boxB[0])\n",
        "    y1 = max(boxA[1], boxB[1])\n",
        "    x2 = min(boxA[2], boxB[2])\n",
        "    y2 = min(boxA[3], boxB[3])\n",
        "    width = (x2 - x1)\n",
        "    height = (y2 - y1)\n",
        "    if (width<0) or (height <0):\n",
        "        return 0.0\n",
        "    area_overlap = width * height\n",
        "    area_a = (boxA[2] - boxA[0]) * (boxA[3] - boxA[1])\n",
        "    area_b = (boxB[2] - boxB[0]) * (boxB[3] - boxB[1])\n",
        "    area_combined = area_a + area_b - area_overlap\n",
        "    iou = area_overlap / (area_combined+epsilon)\n",
        "    return iou"
      ],
      "execution_count": 3,
      "outputs": []
    },
    {
      "cell_type": "code",
      "metadata": {
        "id": "TtCQPF8J6CGB"
      },
      "source": [
        "FPATHS, GTBBS, CLSS, DELTAS, ROIS, IOUS = [], [], [], [], [], []\n",
        "N = 500\n",
        "for ix, (im, bbs, labels, fpath) in enumerate(ds):\n",
        "    if(ix==N):\n",
        "        break\n",
        "    H, W, _ = im.shape\n",
        "    candidates = extract_candidates(im)\n",
        "    candidates = np.array([(x,y,x+w,y+h) for x,y,w,h in candidates])\n",
        "    ious, rois, clss, deltas = [], [], [], []\n",
        "    ious = np.array([[extract_iou(candidate, _bb_) for candidate in candidates] for _bb_ in bbs]).T\n",
        "    for jx, candidate in enumerate(candidates):\n",
        "        cx,cy,cX,cY = candidate\n",
        "        candidate_ious = ious[jx]\n",
        "        best_iou_at = np.argmax(candidate_ious)\n",
        "        best_iou = candidate_ious[best_iou_at]\n",
        "        best_bb = _x,_y,_X,_Y = bbs[best_iou_at]\n",
        "        if best_iou > 0.3: clss.append(labels[best_iou_at])\n",
        "        else : clss.append('background')\n",
        "        delta = np.array([_x-cx, _y-cy, _X-cX, _Y-cY]) / np.array([W,H,W,H])\n",
        "        deltas.append(delta)\n",
        "        rois.append(candidate / np.array([W,H,W,H]))\n",
        "    FPATHS.append(fpath)\n",
        "    IOUS.append(ious)\n",
        "    ROIS.append(rois)\n",
        "    CLSS.append(clss)\n",
        "    DELTAS.append(deltas)\n",
        "    GTBBS.append(bbs)\n",
        "FPATHS = [f'{IMAGE_ROOT}/{stem(f)}.jpg' for f in FPATHS]\n",
        "FPATHS, GTBBS, CLSS, DELTAS, ROIS = [item for item in [FPATHS, GTBBS, CLSS, DELTAS, ROIS]]"
      ],
      "execution_count": null,
      "outputs": []
    },
    {
      "cell_type": "code",
      "metadata": {
        "id": "yxzZs0Gs7bQt"
      },
      "source": [
        "targets = pd.DataFrame(flatten(CLSS), columns=['label'])\n",
        "label2target = {l:t for t,l in enumerate(targets['label'].unique())}\n",
        "target2label = {t:l for l,t in label2target.items()}\n",
        "background_class = label2target['background']"
      ],
      "execution_count": null,
      "outputs": []
    },
    {
      "cell_type": "code",
      "metadata": {
        "id": "vEtHtZOO725v"
      },
      "source": [
        "normalize = transforms.Normalize(mean=[0.485, 0.456, 0.406],\n",
        "                                 std=[0.229, 0.224, 0.225])\n",
        "def preprocess_image(img):\n",
        "    img = torch.tensor(img).permute(2,0,1)\n",
        "    img = normalize(img)\n",
        "    return img.to(device).float()\n",
        "def decode(_y):\n",
        "    _, preds = _y.max(-1)\n",
        "    return preds\n"
      ],
      "execution_count": null,
      "outputs": []
    },
    {
      "cell_type": "code",
      "metadata": {
        "id": "4vLi9hII7-WS"
      },
      "source": [
        "class RCNNDataset(Dataset):\n",
        "    def __init__(self, fpaths, rois, labels, deltas, gtbbs):\n",
        "        self.fpaths = fpaths\n",
        "        self.gtbbs = gtbbs\n",
        "        self.rois = rois\n",
        "        self.labels = labels\n",
        "        self.deltas = deltas\n",
        "    def __len__(self): return len(self.fpaths)\n",
        "    def __getitem__(self, ix):\n",
        "        fpath = str(self.fpaths[ix])\n",
        "        image = cv2.imread(fpath, 1)[...,::-1]\n",
        "        H, W, _ = image.shape\n",
        "        sh = np.array([W,H,W,H])\n",
        "        gtbbs = self.gtbbs[ix]\n",
        "        rois = self.rois[ix]\n",
        "        bbs = (np.array(rois)*sh).astype(np.uint16)\n",
        "        labels = self.labels[ix]\n",
        "        deltas = self.deltas[ix]\n",
        "        crops = [image[y:Y,x:X] for (x,y,X,Y) in bbs]\n",
        "        return image, crops, bbs, labels, deltas, gtbbs, fpath\n",
        "    def collate_fn(self, batch):\n",
        "        input, rois, rixs, labels, deltas = [], [], [], [], []\n",
        "        for ix in range(len(batch)):\n",
        "            image, crops, image_bbs, image_labels, image_deltas, image_gt_bbs, image_fpath = batch[ix]\n",
        "            crops = [cv2.resize(crop, (224,224)) for crop in crops]\n",
        "            crops = [preprocess_image(crop/255.)[None] for crop in crops]\n",
        "            input.extend(crops)\n",
        "            labels.extend([label2target[c] for c in image_labels])\n",
        "            deltas.extend(image_deltas)\n",
        "        input = torch.cat(input).to(device)\n",
        "        labels = torch.Tensor(labels).long().to(device)\n",
        "        deltas = torch.Tensor(deltas).float().to(device)\n",
        "        return input, labels, deltas\n"
      ],
      "execution_count": null,
      "outputs": []
    },
    {
      "cell_type": "code",
      "metadata": {
        "id": "dzwT5C-J8G0j"
      },
      "source": [
        "n_train = 9*len(FPATHS)//10\n",
        "train_ds = RCNNDataset(FPATHS[:n_train], ROIS[:n_train], CLSS[:n_train], DELTAS[:n_train], GTBBS[:n_train])\n",
        "test_ds = RCNNDataset(FPATHS[n_train:], ROIS[n_train:], CLSS[n_train:], DELTAS[n_train:], GTBBS[n_train:])\n",
        "\n",
        "from torch.utils.data import TensorDataset, DataLoader\n",
        "train_loader = DataLoader(train_ds, batch_size=2, collate_fn=train_ds.collate_fn, drop_last=True)\n",
        "test_loader = DataLoader(test_ds, batch_size=2, collate_fn=test_ds.collate_fn, drop_last=True)"
      ],
      "execution_count": null,
      "outputs": []
    },
    {
      "cell_type": "code",
      "metadata": {
        "id": "QcLxxBJm8HUz"
      },
      "source": [
        "vgg_backbone = models.vgg16(pretrained=True)\n",
        "vgg_backbone.classifier = nn.Sequential()\n",
        "for param in vgg_backbone.parameters():\n",
        "    param.requires_grad = False\n",
        "vgg_backbone.eval().to(device)"
      ],
      "execution_count": null,
      "outputs": []
    },
    {
      "cell_type": "code",
      "metadata": {
        "id": "Fs3XfT418aGk"
      },
      "source": [
        "class RCNN(nn.Module):\n",
        "    def __init__(self):\n",
        "        super().__init__()\n",
        "        feature_dim = 25088\n",
        "        self.backbone = vgg_backbone\n",
        "        self.cls_score = nn.Linear(feature_dim, len(label2target))\n",
        "        self.bbox = nn.Sequential(\n",
        "              nn.Linear(feature_dim, 512),\n",
        "              nn.ReLU(),\n",
        "              nn.Linear(512, 4),\n",
        "              nn.Tanh(),\n",
        "            )\n",
        "        self.cel = nn.CrossEntropyLoss()\n",
        "        self.sl1 = nn.L1Loss()\n",
        "    def forward(self, input):\n",
        "        feat = self.backbone(input)\n",
        "        cls_score = self.cls_score(feat)\n",
        "        bbox = self.bbox(feat)\n",
        "        return cls_score, bbox\n",
        "    def calc_loss(self, probs, _deltas, labels, deltas):\n",
        "        detection_loss = self.cel(probs, labels)\n",
        "        ixs, = torch.where(labels != 0)\n",
        "        _deltas = _deltas[ixs]\n",
        "        deltas = deltas[ixs]\n",
        "        self.lmb = 10.0\n",
        "        if len(ixs) > 0:\n",
        "            regression_loss = self.sl1(_deltas, deltas)\n",
        "            return detection_loss + self.lmb * regression_loss, detection_loss.detach(), regression_loss.detach()\n",
        "        else:\n",
        "            regression_loss = 0\n",
        "            return detection_loss + self.lmb * regression_loss, detection_loss.detach(), regression_loss"
      ],
      "execution_count": null,
      "outputs": []
    },
    {
      "cell_type": "code",
      "metadata": {
        "id": "MiMmezgp9E-s"
      },
      "source": [
        "def train_batch(inputs, model, optimizer, criterion):\n",
        "    input, clss, deltas = inputs\n",
        "    model.train()\n",
        "    optimizer.zero_grad()\n",
        "    _clss, _deltas = model(input)\n",
        "    loss, loc_loss, regr_loss = criterion(_clss, _deltas, clss, deltas)\n",
        "    accs = clss == decode(_clss)\n",
        "    loss.backward()\n",
        "    optimizer.step()\n",
        "    return loss.detach(), loc_loss, regr_loss, accs.cpu().numpy()"
      ],
      "execution_count": null,
      "outputs": []
    },
    {
      "cell_type": "code",
      "metadata": {
        "id": "vNBqA98I9G6O"
      },
      "source": [
        "@torch.no_grad()\n",
        "def validate_batch(inputs, model, criterion):\n",
        "    input, clss, deltas = inputs\n",
        "    with torch.no_grad():\n",
        "        model.eval()\n",
        "        _clss,_deltas = model(input)\n",
        "        loss, loc_loss, regr_loss = criterion(_clss, _deltas, clss, deltas)\n",
        "        _, _clss = _clss.max(-1)\n",
        "        accs = clss == _clss\n",
        "    return _clss, _deltas, loss.detach(), loc_loss, regr_loss, accs.cpu().numpy()"
      ],
      "execution_count": null,
      "outputs": []
    },
    {
      "cell_type": "code",
      "metadata": {
        "id": "JIobqz0W9I6s"
      },
      "source": [
        "rcnn = RCNN().to(device)\n",
        "criterion = rcnn.calc_loss\n",
        "optimizer = optim.SGD(rcnn.parameters(), lr=1e-3)\n",
        "n_epochs = 5\n",
        "log = Report(n_epochs)"
      ],
      "execution_count": null,
      "outputs": []
    },
    {
      "cell_type": "code",
      "metadata": {
        "id": "hReU_vnH9Kk0"
      },
      "source": [
        "for epoch in range(n_epochs):\n",
        "\n",
        "    _n = len(train_loader)\n",
        "    for ix, inputs in enumerate(train_loader):\n",
        "        loss, loc_loss, regr_loss, accs = train_batch(inputs, rcnn,\n",
        "                                                      optimizer, criterion)\n",
        "        pos = (epoch + (ix+1)/_n)\n",
        "        log.record(pos, trn_loss=loss.item(), trn_loc_loss=loc_loss,\n",
        "                   trn_regr_loss=regr_loss,\n",
        "                   trn_acc=accs.mean(), end='\\r')\n",
        "\n",
        "    _n = len(test_loader)\n",
        "    for ix,inputs in enumerate(test_loader):\n",
        "        _clss, _deltas, loss, \\\n",
        "        loc_loss, regr_loss, accs = validate_batch(inputs,\n",
        "                                                rcnn, criterion)\n",
        "        pos = (epoch + (ix+1)/_n)\n",
        "        log.record(pos, val_loss=loss.item(), val_loc_loss=loc_loss,\n",
        "                val_regr_loss=regr_loss,\n",
        "                val_acc=accs.mean(), end='\\r')\n",
        "\n",
        "# Plotting training and validation metrics\n",
        "log.plot_epochs('trn_loss,val_loss'.split(','))"
      ],
      "execution_count": null,
      "outputs": []
    },
    {
      "cell_type": "code",
      "metadata": {
        "id": "qksBAgNJ9NhK"
      },
      "source": [
        "def test_predictions(filename, show_output=True):\n",
        "    img = np.array(cv2.imread(filename, 1)[...,::-1])\n",
        "    candidates = extract_candidates(img)\n",
        "    candidates = [(x,y,x+w,y+h) for x,y,w,h in candidates]\n",
        "    input = []\n",
        "    for candidate in candidates:\n",
        "        x,y,X,Y = candidate\n",
        "        crop = cv2.resize(img[y:Y,x:X], (224,224))\n",
        "        input.append(preprocess_image(crop/255.)[None])\n",
        "    input = torch.cat(input).to(device)\n",
        "    with torch.no_grad():\n",
        "        rcnn.eval()\n",
        "        probs, deltas = rcnn(input)\n",
        "        probs = torch.nn.functional.softmax(probs, -1)\n",
        "        confs, clss = torch.max(probs, -1)\n",
        "    candidates = np.array(candidates)\n",
        "    confs, clss, probs, deltas = [tensor.detach().cpu().numpy() for tensor in [confs, clss, probs, deltas]]\n",
        "\n",
        "    ixs = clss!=background_class\n",
        "    confs, clss, probs, deltas, candidates = [tensor[ixs] for tensor in [confs, clss, probs, deltas, candidates]]\n",
        "    bbs = (candidates + deltas).astype(np.uint16)\n",
        "    ixs = nms(torch.tensor(bbs.astype(np.float32)), torch.tensor(confs), 0.05)\n",
        "    confs, clss, probs, deltas, candidates, bbs = [tensor[ixs] for tensor in [confs, clss, probs, deltas, candidates, bbs]]\n",
        "    if len(ixs) == 1:\n",
        "        confs, clss, probs, deltas, candidates, bbs = [tensor[None] for tensor in [confs, clss, probs, deltas, candidates, bbs]]\n",
        "    if len(confs) == 0 and not show_output:\n",
        "        return (0,0,224,224), 'background', 0\n",
        "    if len(confs) > 0:\n",
        "        best_pred = np.argmax(confs)\n",
        "        best_conf = np.max(confs)\n",
        "        best_bb = bbs[best_pred]\n",
        "        x,y,X,Y = best_bb\n",
        "    _, ax = plt.subplots(1, 2, figsize=(20,10))\n",
        "    show(img, ax=ax[0])\n",
        "    ax[0].grid(False)\n",
        "    ax[0].set_title('Original image')\n",
        "    if len(confs) == 0:\n",
        "        ax[1].imshow(img)\n",
        "        ax[1].set_title('No objects')\n",
        "        plt.show()\n",
        "        return\n",
        "    ax[1].set_title(target2label[clss[best_pred]])\n",
        "    show(img, bbs=bbs.tolist(), texts=[target2label[c] for c in clss.tolist()], ax=ax[1], title='predicted bounding box and class')\n",
        "    plt.show()\n",
        "    return (x,y,X,Y),target2label[clss[best_pred]],best_conf"
      ],
      "execution_count": null,
      "outputs": []
    },
    {
      "cell_type": "code",
      "metadata": {
        "id": "0qpUkdh4E_zl"
      },
      "source": [
        "image, crops, bbs, labels, deltas, gtbbs, fpath = test_ds[7]\n",
        "test_predictions(fpath)"
      ],
      "execution_count": null,
      "outputs": []
    },
    {
      "cell_type": "code",
      "metadata": {
        "id": "1OxuR9fjFB45"
      },
      "source": [],
      "execution_count": null,
      "outputs": []
    }
  ]
}